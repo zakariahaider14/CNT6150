{
 "cells": [
  {
   "cell_type": "code",
   "execution_count": 2,
   "id": "39c162b0-d4f4-452c-9fc9-785d2260fabb",
   "metadata": {},
   "outputs": [
    {
     "name": "stderr",
     "output_type": "stream",
     "text": [
      "C:\\Users\\zakar\\anaconda3\\lib\\site-packages\\scipy\\__init__.py:155: UserWarning: A NumPy version >=1.18.5 and <1.25.0 is required for this version of SciPy (detected version 1.26.4\n",
      "  warnings.warn(f\"A NumPy version >={np_minversion} and <{np_maxversion}\"\n"
     ]
    }
   ],
   "source": [
    "import numpy as np # linear algebra\n",
    "import pandas as pd # data processing, CSV file I/O (e.g. pd.read_csv)\n",
    "\n",
    "\n",
    "import os\n",
    "\n",
    "%matplotlib inline\n",
    "import numpy as np\n",
    "import pandas as pd\n",
    "import seaborn as sns\n",
    "import matplotlib.pyplot as plt\n",
    "\n",
    "from sklearn.metrics import classification_report, confusion_matrix\n",
    "import tensorflow as tf\n",
    "\n",
    "from tensorflow.keras import layers\n",
    "import time\n",
    "\n",
    "from sklearn.preprocessing import StandardScaler, MinMaxScaler\n",
    "\n",
    "from sklearn.model_selection import train_test_split\n",
    "from sklearn.preprocessing import LabelEncoder\n",
    "\n"
   ]
  },
  {
   "cell_type": "code",
   "execution_count": 3,
   "id": "27e8c8d1-718d-4dbd-a959-264215b7b048",
   "metadata": {},
   "outputs": [],
   "source": [
    "dtypes = {\n",
    "\"duration\": np.int8,\n",
    "\"protocol_type\": object,\n",
    "\"service\": object,\n",
    "\"flag\": object,\n",
    "\"src_bytes\":  np.int8,\n",
    "\"dst_bytes\":  np.int8,\n",
    "\"land\": np.int8,\n",
    "\"wrong_fragment\":  np.int8,\n",
    "\"urgent\": np.int8,\n",
    "\"hot\": np.int8,\n",
    "\"m_failed_logins\":  np.int8,\n",
    "\"logged_in\":  np.int8,\n",
    "\"num_compromised\":  np.int8,\n",
    "\"root_shell\":  np.int8,\n",
    "\"su_attempted\":  np.int8,\n",
    "\"num_root\": np.int8,\n",
    "\"num_file_creations\":  np.int8,\n",
    "\"num_shells\":  np.int8,\n",
    "\"num_access_files\":  np.int8,\n",
    "\"num_outbound_cmds\":  np.int8,\n",
    "\"is_host_login\":  np.int8,\n",
    "\"is_guest_login\":  np.int8,\n",
    "\"count\": np.int8,\n",
    "\"srv_count\":  np.int8,\n",
    "\"serror_rate\": np.float16,\n",
    "\"srv_serror_rate\": np.float16,\n",
    "\"rerror_rate\": np.float16,\n",
    "\"srv_rerror_rate\": np.float16,\n",
    "\"same_srv_rate\": np.float16,\n",
    "\"diff_srv_rate\": np.float16,\n",
    "\"srv_diff_host_rate\": np.float16,\n",
    "\"dst_host_count\":  np.int8,\n",
    "\"dst_host_srv_count\":  np.int8,\n",
    "\"dst_host_same_srv_rate\": np.float16,\n",
    "\"dst_host_diff_srv_rate\": np.float16,\n",
    "\"dst_host_same_src_port_rate\": np.float16,\n",
    "\"dst_host_srv_diff_host_rate\": np.float16,\n",
    "\"dst_host_serror_rate\": np.float16,\n",
    "\"dst_host_srv_serror_rate\": np.float16,\n",
    "\"dst_host_rerror_rate\": np.float16,\n",
    "\"dst_host_srv_rerror_rate\": np.float16,\n",
    "\"label\": object\n",
    "}\n",
    "\n",
    "columns = [\"duration\",\"protocol_type\",\"service\",\"flag\",\"src_bytes\",\"dst_bytes\",\"land\",\"wrong_fragment\",\"urgent\",\"hot\",\"m_failed_logins\",\n",
    "\"logged_in\", \"num_compromised\",\"root_shell\",\"su_attempted\",\"num_root\",\"num_file_creations\",\"num_shells\",\"num_access_files\",\n",
    "\"num_outbound_cmds\",\"is_host_login\",\"is_guest_login\",\"count\",\"srv_count\",\"serror_rate\",\"srv_serror_rate\",\"rerror_rate\",\"srv_rerror_rate\",\n",
    "\"same_srv_rate\",\"diff_srv_rate\",\"srv_diff_host_rate\",\"dst_host_count\",\"dst_host_srv_count\",\"dst_host_same_srv_rate\",\"dst_host_diff_srv_rate\",\n",
    "\"dst_host_same_src_port_rate\", \"dst_host_srv_diff_host_rate\",\"dst_host_serror_rate\",\"dst_host_srv_serror_rate\",\"dst_host_rerror_rate\",\n",
    "\"dst_host_srv_rerror_rate\",\"label\"]\n"
   ]
  },
  {
   "cell_type": "code",
   "execution_count": 4,
   "id": "df983715-2c2a-4851-9a80-b923b45fc71d",
   "metadata": {},
   "outputs": [],
   "source": [
    "df = pd.read_csv(\"data/kdd99/kddcup.data_10_percent/kddcup.data_10_percent_corrected\", sep=\",\", names=columns, dtype=dtypes, index_col=None)"
   ]
  },
  {
   "cell_type": "code",
   "execution_count": 5,
   "id": "c475f548-05c1-4c07-a03a-1423115a8c04",
   "metadata": {},
   "outputs": [
    {
     "data": {
      "text/html": [
       "<div>\n",
       "<style scoped>\n",
       "    .dataframe tbody tr th:only-of-type {\n",
       "        vertical-align: middle;\n",
       "    }\n",
       "\n",
       "    .dataframe tbody tr th {\n",
       "        vertical-align: top;\n",
       "    }\n",
       "\n",
       "    .dataframe thead th {\n",
       "        text-align: right;\n",
       "    }\n",
       "</style>\n",
       "<table border=\"1\" class=\"dataframe\">\n",
       "  <thead>\n",
       "    <tr style=\"text-align: right;\">\n",
       "      <th></th>\n",
       "      <th>duration</th>\n",
       "      <th>protocol_type</th>\n",
       "      <th>service</th>\n",
       "      <th>flag</th>\n",
       "      <th>src_bytes</th>\n",
       "      <th>dst_bytes</th>\n",
       "      <th>land</th>\n",
       "      <th>wrong_fragment</th>\n",
       "      <th>urgent</th>\n",
       "      <th>hot</th>\n",
       "      <th>...</th>\n",
       "      <th>dst_host_srv_count</th>\n",
       "      <th>dst_host_same_srv_rate</th>\n",
       "      <th>dst_host_diff_srv_rate</th>\n",
       "      <th>dst_host_same_src_port_rate</th>\n",
       "      <th>dst_host_srv_diff_host_rate</th>\n",
       "      <th>dst_host_serror_rate</th>\n",
       "      <th>dst_host_srv_serror_rate</th>\n",
       "      <th>dst_host_rerror_rate</th>\n",
       "      <th>dst_host_srv_rerror_rate</th>\n",
       "      <th>label</th>\n",
       "    </tr>\n",
       "  </thead>\n",
       "  <tbody>\n",
       "    <tr>\n",
       "      <th>0</th>\n",
       "      <td>0</td>\n",
       "      <td>tcp</td>\n",
       "      <td>http</td>\n",
       "      <td>SF</td>\n",
       "      <td>-75</td>\n",
       "      <td>74</td>\n",
       "      <td>0</td>\n",
       "      <td>0</td>\n",
       "      <td>0</td>\n",
       "      <td>0</td>\n",
       "      <td>...</td>\n",
       "      <td>9</td>\n",
       "      <td>1.0</td>\n",
       "      <td>0.0</td>\n",
       "      <td>0.109985</td>\n",
       "      <td>0.0</td>\n",
       "      <td>0.0</td>\n",
       "      <td>0.0</td>\n",
       "      <td>0.0</td>\n",
       "      <td>0.0</td>\n",
       "      <td>normal.</td>\n",
       "    </tr>\n",
       "    <tr>\n",
       "      <th>1</th>\n",
       "      <td>0</td>\n",
       "      <td>tcp</td>\n",
       "      <td>http</td>\n",
       "      <td>SF</td>\n",
       "      <td>-17</td>\n",
       "      <td>-26</td>\n",
       "      <td>0</td>\n",
       "      <td>0</td>\n",
       "      <td>0</td>\n",
       "      <td>0</td>\n",
       "      <td>...</td>\n",
       "      <td>19</td>\n",
       "      <td>1.0</td>\n",
       "      <td>0.0</td>\n",
       "      <td>0.049988</td>\n",
       "      <td>0.0</td>\n",
       "      <td>0.0</td>\n",
       "      <td>0.0</td>\n",
       "      <td>0.0</td>\n",
       "      <td>0.0</td>\n",
       "      <td>normal.</td>\n",
       "    </tr>\n",
       "    <tr>\n",
       "      <th>2</th>\n",
       "      <td>0</td>\n",
       "      <td>tcp</td>\n",
       "      <td>http</td>\n",
       "      <td>SF</td>\n",
       "      <td>-21</td>\n",
       "      <td>57</td>\n",
       "      <td>0</td>\n",
       "      <td>0</td>\n",
       "      <td>0</td>\n",
       "      <td>0</td>\n",
       "      <td>...</td>\n",
       "      <td>29</td>\n",
       "      <td>1.0</td>\n",
       "      <td>0.0</td>\n",
       "      <td>0.029999</td>\n",
       "      <td>0.0</td>\n",
       "      <td>0.0</td>\n",
       "      <td>0.0</td>\n",
       "      <td>0.0</td>\n",
       "      <td>0.0</td>\n",
       "      <td>normal.</td>\n",
       "    </tr>\n",
       "    <tr>\n",
       "      <th>3</th>\n",
       "      <td>0</td>\n",
       "      <td>tcp</td>\n",
       "      <td>http</td>\n",
       "      <td>SF</td>\n",
       "      <td>-37</td>\n",
       "      <td>57</td>\n",
       "      <td>0</td>\n",
       "      <td>0</td>\n",
       "      <td>0</td>\n",
       "      <td>0</td>\n",
       "      <td>...</td>\n",
       "      <td>39</td>\n",
       "      <td>1.0</td>\n",
       "      <td>0.0</td>\n",
       "      <td>0.029999</td>\n",
       "      <td>0.0</td>\n",
       "      <td>0.0</td>\n",
       "      <td>0.0</td>\n",
       "      <td>0.0</td>\n",
       "      <td>0.0</td>\n",
       "      <td>normal.</td>\n",
       "    </tr>\n",
       "    <tr>\n",
       "      <th>4</th>\n",
       "      <td>0</td>\n",
       "      <td>tcp</td>\n",
       "      <td>http</td>\n",
       "      <td>SF</td>\n",
       "      <td>-39</td>\n",
       "      <td>-16</td>\n",
       "      <td>0</td>\n",
       "      <td>0</td>\n",
       "      <td>0</td>\n",
       "      <td>0</td>\n",
       "      <td>...</td>\n",
       "      <td>49</td>\n",
       "      <td>1.0</td>\n",
       "      <td>0.0</td>\n",
       "      <td>0.020004</td>\n",
       "      <td>0.0</td>\n",
       "      <td>0.0</td>\n",
       "      <td>0.0</td>\n",
       "      <td>0.0</td>\n",
       "      <td>0.0</td>\n",
       "      <td>normal.</td>\n",
       "    </tr>\n",
       "  </tbody>\n",
       "</table>\n",
       "<p>5 rows × 42 columns</p>\n",
       "</div>"
      ],
      "text/plain": [
       "   duration protocol_type service flag  src_bytes  dst_bytes  land  \\\n",
       "0         0           tcp    http   SF        -75         74     0   \n",
       "1         0           tcp    http   SF        -17        -26     0   \n",
       "2         0           tcp    http   SF        -21         57     0   \n",
       "3         0           tcp    http   SF        -37         57     0   \n",
       "4         0           tcp    http   SF        -39        -16     0   \n",
       "\n",
       "   wrong_fragment  urgent  hot  ...  dst_host_srv_count  \\\n",
       "0               0       0    0  ...                   9   \n",
       "1               0       0    0  ...                  19   \n",
       "2               0       0    0  ...                  29   \n",
       "3               0       0    0  ...                  39   \n",
       "4               0       0    0  ...                  49   \n",
       "\n",
       "   dst_host_same_srv_rate  dst_host_diff_srv_rate  \\\n",
       "0                     1.0                     0.0   \n",
       "1                     1.0                     0.0   \n",
       "2                     1.0                     0.0   \n",
       "3                     1.0                     0.0   \n",
       "4                     1.0                     0.0   \n",
       "\n",
       "   dst_host_same_src_port_rate  dst_host_srv_diff_host_rate  \\\n",
       "0                     0.109985                          0.0   \n",
       "1                     0.049988                          0.0   \n",
       "2                     0.029999                          0.0   \n",
       "3                     0.029999                          0.0   \n",
       "4                     0.020004                          0.0   \n",
       "\n",
       "   dst_host_serror_rate  dst_host_srv_serror_rate  dst_host_rerror_rate  \\\n",
       "0                   0.0                       0.0                   0.0   \n",
       "1                   0.0                       0.0                   0.0   \n",
       "2                   0.0                       0.0                   0.0   \n",
       "3                   0.0                       0.0                   0.0   \n",
       "4                   0.0                       0.0                   0.0   \n",
       "\n",
       "   dst_host_srv_rerror_rate    label  \n",
       "0                       0.0  normal.  \n",
       "1                       0.0  normal.  \n",
       "2                       0.0  normal.  \n",
       "3                       0.0  normal.  \n",
       "4                       0.0  normal.  \n",
       "\n",
       "[5 rows x 42 columns]"
      ]
     },
     "execution_count": 5,
     "metadata": {},
     "output_type": "execute_result"
    }
   ],
   "source": [
    "df.head()"
   ]
  },
  {
   "cell_type": "code",
   "execution_count": 6,
   "id": "fa7291c2-d1bf-411d-bb78-5f2e36d2c4ee",
   "metadata": {},
   "outputs": [
    {
     "data": {
      "text/plain": [
       "label\n",
       "smurf.              280790\n",
       "neptune.            107201\n",
       "normal.              97278\n",
       "back.                 2203\n",
       "satan.                1589\n",
       "ipsweep.              1247\n",
       "portsweep.            1040\n",
       "warezclient.          1020\n",
       "teardrop.              979\n",
       "pod.                   264\n",
       "nmap.                  231\n",
       "guess_passwd.           53\n",
       "buffer_overflow.        30\n",
       "land.                   21\n",
       "warezmaster.            20\n",
       "imap.                   12\n",
       "rootkit.                10\n",
       "loadmodule.              9\n",
       "ftp_write.               8\n",
       "multihop.                7\n",
       "phf.                     4\n",
       "perl.                    3\n",
       "spy.                     2\n",
       "Name: count, dtype: int64"
      ]
     },
     "execution_count": 6,
     "metadata": {},
     "output_type": "execute_result"
    }
   ],
   "source": [
    "df.label.value_counts()"
   ]
  },
  {
   "cell_type": "code",
   "execution_count": 7,
   "id": "34e5b089-0714-4d8b-a21a-5d80a6498b42",
   "metadata": {},
   "outputs": [],
   "source": [
    "#Feature Selection\n",
    "new_features=['dst_bytes',\n",
    " 'logged_in',         \n",
    "'srv_count',\n",
    " 'dst_host_count',\n",
    " 'dst_host_srv_count',\n",
    " 'dst_host_same_srv_rate',\n",
    "  'dst_host_srv_serror_rate',\n",
    " 'dst_host_same_src_port_rate','label']\n"
   ]
  },
  {
   "cell_type": "code",
   "execution_count": 9,
   "id": "5df8946d-5c44-478a-83bc-6eadf69c0876",
   "metadata": {},
   "outputs": [],
   "source": [
    "# 0 for normal data and 1 for abnormalities\n",
    "df.label=df.label.apply(lambda x: 0 if x == 'normal.' else 1)"
   ]
  },
  {
   "cell_type": "code",
   "execution_count": 10,
   "id": "45d8f5f0-e4ca-4112-87ab-9c2406ca17a8",
   "metadata": {},
   "outputs": [],
   "source": [
    "df=df[new_features]"
   ]
  },
  {
   "cell_type": "code",
   "execution_count": 11,
   "id": "a655a42a-55a1-4f8f-b740-4e52303d0e94",
   "metadata": {},
   "outputs": [],
   "source": [
    "#label encoding \n",
    "for column in df.columns:\n",
    "    if df[column].dtype == object:\n",
    "        encoded = LabelEncoder()\n",
    "        \n",
    "        encoded.fit(df[column])\n",
    "        df[column] = encoded.transform(df[column])"
   ]
  },
  {
   "cell_type": "code",
   "execution_count": 12,
   "id": "b61cb89a-b573-4fc0-9b79-c7670a778f8f",
   "metadata": {},
   "outputs": [],
   "source": [
    "# "
   ]
  },
  {
   "cell_type": "code",
   "execution_count": 13,
   "id": "07dd4d5b-d32b-455c-ac13-04f2df39d178",
   "metadata": {},
   "outputs": [],
   "source": [
    "#randomly sample 500 data point for training\n",
    "df_train=df[df.label==0].sample(30000)"
   ]
  },
  {
   "cell_type": "code",
   "execution_count": 14,
   "id": "cad513d4-fedd-4776-98e9-5413c8fbb97e",
   "metadata": {},
   "outputs": [],
   "source": [
    "#remove the item sampled from our dataset\n",
    "index_list=df_train.index\n",
    "df=df.drop(index_list)"
   ]
  },
  {
   "cell_type": "code",
   "execution_count": 15,
   "id": "34b23b0b-dccd-4525-90ec-9e7f190ffe63",
   "metadata": {},
   "outputs": [],
   "source": [
    "X = df_train.drop('label', axis=1)\n",
    "    \n",
    "y_test = df_train['label']"
   ]
  },
  {
   "cell_type": "code",
   "execution_count": 16,
   "id": "675532eb-ea7c-458c-838a-e8eaf65c681b",
   "metadata": {},
   "outputs": [],
   "source": [
    "X = X.astype(np.float64)\n",
    "\n",
    "X = np.nan_to_num(X, nan=0.0, posinf=0.0, neginf=0.0)\n",
    "\n",
    "scaler = MinMaxScaler()\n",
    "X = scaler.fit_transform(X)"
   ]
  },
  {
   "cell_type": "code",
   "execution_count": 17,
   "id": "3ed8c3b5-2afe-4c12-8c3a-f82a1c715f13",
   "metadata": {},
   "outputs": [
    {
     "data": {
      "text/plain": [
       "(30000, 8)"
      ]
     },
     "execution_count": 17,
     "metadata": {},
     "output_type": "execute_result"
    }
   ],
   "source": [
    "X.shape"
   ]
  },
  {
   "cell_type": "code",
   "execution_count": 19,
   "id": "e345dd24",
   "metadata": {},
   "outputs": [],
   "source": [
    "### 2nd Discriminator model #######\n",
    "def make_generator_model():\n",
    "    model = tf.keras.Sequential()\n",
    "    model.add(layers.Dense(128, use_bias=False, input_shape=(100,)))\n",
    "    model.add(layers.BatchNormalization())\n",
    "    model.add(layers.LeakyReLU())\n",
    "\n",
    "    model.add(layers.Dense(64))\n",
    "    model.add(layers.BatchNormalization())\n",
    "    model.add(layers.LeakyReLU())\n",
    "    \n",
    "    \n",
    "    model.add(layers.Dense(64))\n",
    "    model.add(layers.BatchNormalization())\n",
    "    model.add(layers.LeakyReLU())\n",
    "\n",
    "    model.add(layers.Dense(8))  # Output shape adjusted to match discriminator's input shape\n",
    "    model.add(layers.Reshape((1, 8)))  # Reshape to (None, 1, 8) to match discriminator's input shape\n",
    "\n",
    "    return model\n"
   ]
  },
  {
   "cell_type": "code",
   "execution_count": 21,
   "id": "db2954d7",
   "metadata": {},
   "outputs": [],
   "source": [
    "### 2nd Discriminator model #######\n",
    "def make_discriminator_model():\n",
    "    model = tf.keras.Sequential()\n",
    "    model.add(layers.Dense(32, use_bias=False, input_shape=[1,8]))\n",
    "   \n",
    "    model.add(layers.LeakyReLU())\n",
    "    model.add(layers.Dropout(0.1))\n",
    "\n",
    "    model.add(layers.Dense(64, use_bias=True))\n",
    "    model.add(layers.LeakyReLU())\n",
    "    model.add(layers.Dropout(0.1))\n",
    "    \n",
    "    model.add(layers.Dense(32, use_bias=True))\n",
    "    model.add(layers.LeakyReLU())\n",
    "    model.add(layers.Dropout(0.1))\n",
    "\n",
    "    model.add(layers.Dense(16, use_bias=True))\n",
    "    model.add(layers.LeakyReLU())\n",
    "    model.add(layers.Dropout(0.1))\n",
    "    \n",
    "    model.add(layers.Dense(8, use_bias=True))\n",
    "    model.add(layers.LeakyReLU())\n",
    "\n",
    "   \n",
    "    model.add(layers.Dense(1))\n",
    "   # model.add(layers.Softmax())\n",
    "\n",
    "    return model"
   ]
  },
  {
   "cell_type": "code",
   "execution_count": 22,
   "id": "58b7c806-0a90-423f-82a4-b9d6e34ff400",
   "metadata": {},
   "outputs": [],
   "source": [
    "generator=make_generator_model()\n",
    "discriminator=make_discriminator_model()"
   ]
  },
  {
   "cell_type": "code",
   "execution_count": 23,
   "id": "b4b84c2a-be3f-4b59-bb57-3e53d7c92c7f",
   "metadata": {},
   "outputs": [],
   "source": [
    "cross_entropy = tf.keras.losses.BinaryCrossentropy(from_logits=True)"
   ]
  },
  {
   "cell_type": "code",
   "execution_count": 24,
   "id": "d6ff4b4c-8606-488d-b9e2-fe71c4d3f7ec",
   "metadata": {},
   "outputs": [],
   "source": [
    "def discriminator_loss(real_output, fake_output):\n",
    "    real_loss = cross_entropy(tf.ones_like(real_output), real_output)\n",
    "    fake_loss = cross_entropy(tf.zeros_like(fake_output), fake_output)\n",
    "    total_loss = real_loss + fake_loss\n",
    "    return total_loss"
   ]
  },
  {
   "cell_type": "code",
   "execution_count": 26,
   "id": "c8737545-7272-4573-a0bc-097ec1625857",
   "metadata": {},
   "outputs": [],
   "source": [
    "def generator_loss(fake_output):\n",
    "    return cross_entropy(tf.ones_like(fake_output), fake_output)"
   ]
  },
  {
   "cell_type": "code",
   "execution_count": 27,
   "id": "4292bd8a-6962-4d30-9833-d889f44e81d1",
   "metadata": {},
   "outputs": [],
   "source": [
    "generator_optimizer = tf.keras.optimizers.Adam(1e-4)\n",
    "discriminator_optimizer = tf.keras.optimizers.Adam(1e-4)"
   ]
  },
  {
   "cell_type": "code",
   "execution_count": 28,
   "id": "6615203c-0331-4c06-ac52-0c18dae20501",
   "metadata": {},
   "outputs": [],
   "source": [
    "EPOCHS = 150\n",
    "noise_dim = 100\n",
    "#num_examples_to_generate = 16\n",
    "BATCH_SIZE = 32\n"
   ]
  },
  {
   "cell_type": "code",
   "execution_count": null,
   "id": "e2cd12c0-2ff1-4c09-ad89-ab3b8177f7c1",
   "metadata": {},
   "outputs": [],
   "source": []
  },
  {
   "cell_type": "code",
   "execution_count": 29,
   "id": "cc19c1b2-e0a1-4cac-b48b-5c8b77fa3aae",
   "metadata": {},
   "outputs": [],
   "source": [
    "@tf.function\n",
    "def train_step(images):\n",
    "    noise = tf.random.normal([BATCH_SIZE, noise_dim])\n",
    "    images=tf.reshape(images,(1,8))\n",
    "    images = tf.expand_dims(images, axis=0) \n",
    "\n",
    "    with tf.GradientTape() as gen_tape, tf.GradientTape() as disc_tape:\n",
    "        generated_images = generator(noise, training= True)\n",
    "\n",
    "        real_output = discriminator (images, training= True)\n",
    "        fake_output = discriminator(generated_images, training= True)\n",
    "\n",
    "        gen_loss = generator_loss(fake_output)\n",
    "        disc_loss = discriminator_loss(real_output, fake_output)\n",
    "\n",
    "    gradients_of_generator= gen_tape.gradient(gen_loss, generator.trainable_variables)\n",
    "    gradients_of_discriminator = disc_tape.gradient(disc_loss, discriminator.trainable_variables)\n",
    "\n",
    "\n",
    "    generator_optimizer.apply_gradients(zip(gradients_of_generator, generator.trainable_variables))\n",
    "    discriminator_optimizer.apply_gradients(zip(gradients_of_discriminator, discriminator.trainable_variables))\n",
    "    return (gen_loss,disc_loss)\n"
   ]
  },
  {
   "cell_type": "code",
   "execution_count": 30,
   "id": "2bae81a5-2b6e-4b46-bd10-77ed4bffbc37",
   "metadata": {},
   "outputs": [],
   "source": [
    "history=dict()\n",
    "history['gen']=[]\n",
    "history['dis']=[]\n",
    "def train(dataset, epochs):\n",
    "    for epoch in range(epochs):\n",
    "        start = time.time()\n",
    "\n",
    "        for batch in dataset:\n",
    "           gen_loss,dis_loss= train_step(batch)\n",
    "        history['gen'].append(gen_loss)\n",
    "        history['dis'].append(dis_loss)\n",
    "        print ('Time for epoch {} is {} sec '.format(epoch + 1, time.time()-start))"
   ]
  },
  {
   "cell_type": "code",
   "execution_count": null,
   "id": "bd20126d-5465-498a-aa02-6b8bcc8451ac",
   "metadata": {},
   "outputs": [],
   "source": []
  },
  {
   "cell_type": "code",
   "execution_count": 31,
   "id": "9b864d43-04a9-4933-a3c0-eaa50484af05",
   "metadata": {},
   "outputs": [
    {
     "name": "stdout",
     "output_type": "stream",
     "text": [
      "Time for epoch 1 is 30.003230571746826 sec \n",
      "Time for epoch 2 is 28.44958996772766 sec \n",
      "Time for epoch 3 is 28.311334371566772 sec \n",
      "Time for epoch 4 is 28.499659538269043 sec \n",
      "Time for epoch 5 is 28.893002033233643 sec \n",
      "Time for epoch 6 is 28.421043872833252 sec \n",
      "Time for epoch 7 is 28.224095821380615 sec \n",
      "Time for epoch 8 is 28.33144450187683 sec \n",
      "Time for epoch 9 is 28.715457916259766 sec \n",
      "Time for epoch 10 is 28.75258994102478 sec \n",
      "Time for epoch 11 is 28.572458267211914 sec \n",
      "Time for epoch 12 is 28.158090353012085 sec \n",
      "Time for epoch 13 is 28.38358998298645 sec \n",
      "Time for epoch 14 is 28.41399836540222 sec \n",
      "Time for epoch 15 is 28.446221828460693 sec \n",
      "Time for epoch 16 is 28.317784070968628 sec \n",
      "Time for epoch 17 is 28.434793949127197 sec \n",
      "Time for epoch 18 is 28.43782091140747 sec \n",
      "Time for epoch 19 is 28.68306064605713 sec \n",
      "Time for epoch 20 is 30.41757893562317 sec \n",
      "Time for epoch 21 is 28.376193523406982 sec \n",
      "Time for epoch 22 is 28.578215837478638 sec \n",
      "Time for epoch 23 is 28.277665615081787 sec \n",
      "Time for epoch 24 is 28.208066940307617 sec \n",
      "Time for epoch 25 is 28.13539433479309 sec \n",
      "Time for epoch 26 is 28.133547067642212 sec \n",
      "Time for epoch 27 is 28.32345747947693 sec \n",
      "Time for epoch 28 is 28.169972896575928 sec \n",
      "Time for epoch 29 is 28.148041486740112 sec \n",
      "Time for epoch 30 is 28.183664798736572 sec \n",
      "Time for epoch 31 is 28.284430265426636 sec \n",
      "Time for epoch 32 is 28.378654956817627 sec \n",
      "Time for epoch 33 is 50.52509021759033 sec \n",
      "Time for epoch 34 is 28.12382483482361 sec \n",
      "Time for epoch 35 is 28.110685348510742 sec \n",
      "Time for epoch 36 is 28.246702909469604 sec \n",
      "Time for epoch 37 is 28.305163621902466 sec \n",
      "Time for epoch 38 is 28.33905291557312 sec \n",
      "Time for epoch 39 is 28.345731258392334 sec \n",
      "Time for epoch 40 is 28.759488105773926 sec \n",
      "Time for epoch 41 is 28.37515926361084 sec \n",
      "Time for epoch 42 is 28.412035703659058 sec \n",
      "Time for epoch 43 is 28.264420986175537 sec \n",
      "Time for epoch 44 is 28.38809823989868 sec \n",
      "Time for epoch 45 is 28.289289474487305 sec \n",
      "Time for epoch 46 is 28.371487617492676 sec \n",
      "Time for epoch 47 is 28.384190797805786 sec \n",
      "Time for epoch 48 is 28.314507722854614 sec \n",
      "Time for epoch 49 is 28.2597873210907 sec \n",
      "Time for epoch 50 is 28.286689519882202 sec \n",
      "Time for epoch 51 is 28.551491260528564 sec \n",
      "Time for epoch 52 is 28.110658645629883 sec \n",
      "Time for epoch 53 is 28.24692940711975 sec \n",
      "Time for epoch 54 is 28.33495330810547 sec \n",
      "Time for epoch 55 is 28.489394903182983 sec \n",
      "Time for epoch 56 is 1807.0708787441254 sec \n",
      "Time for epoch 57 is 27.548360586166382 sec \n",
      "Time for epoch 58 is 27.827735900878906 sec \n",
      "Time for epoch 59 is 27.82106351852417 sec \n",
      "Time for epoch 60 is 27.912610054016113 sec \n",
      "Time for epoch 61 is 27.871078729629517 sec \n",
      "Time for epoch 62 is 27.82332730293274 sec \n",
      "Time for epoch 63 is 27.713953018188477 sec \n",
      "Time for epoch 64 is 27.71849822998047 sec \n",
      "Time for epoch 65 is 28.13967752456665 sec \n",
      "Time for epoch 66 is 28.14759349822998 sec \n",
      "Time for epoch 67 is 28.07987666130066 sec \n",
      "Time for epoch 68 is 27.775822401046753 sec \n",
      "Time for epoch 69 is 27.903184413909912 sec \n",
      "Time for epoch 70 is 28.043196439743042 sec \n",
      "Time for epoch 71 is 28.035172700881958 sec \n",
      "Time for epoch 72 is 28.107034921646118 sec \n",
      "Time for epoch 73 is 28.18609070777893 sec \n",
      "Time for epoch 74 is 28.63085126876831 sec \n",
      "Time for epoch 75 is 28.136985778808594 sec \n",
      "Time for epoch 76 is 28.239192485809326 sec \n",
      "Time for epoch 77 is 28.110203504562378 sec \n",
      "Time for epoch 78 is 1432.9354984760284 sec \n",
      "Time for epoch 79 is 27.8152277469635 sec \n",
      "Time for epoch 80 is 28.115318775177002 sec \n",
      "Time for epoch 81 is 27.816147327423096 sec \n",
      "Time for epoch 82 is 27.719042778015137 sec \n",
      "Time for epoch 83 is 27.875993013381958 sec \n",
      "Time for epoch 84 is 27.923386335372925 sec \n",
      "Time for epoch 85 is 27.879104375839233 sec \n",
      "Time for epoch 86 is 27.97925567626953 sec \n",
      "Time for epoch 87 is 28.11650824546814 sec \n",
      "Time for epoch 88 is 28.238867044448853 sec \n",
      "Time for epoch 89 is 28.114384412765503 sec \n",
      "Time for epoch 90 is 28.030213117599487 sec \n",
      "Time for epoch 91 is 28.260145902633667 sec \n",
      "Time for epoch 92 is 28.09355640411377 sec \n",
      "Time for epoch 93 is 28.20221757888794 sec \n",
      "Time for epoch 94 is 28.058534145355225 sec \n",
      "Time for epoch 95 is 28.215362071990967 sec \n",
      "Time for epoch 96 is 28.284179210662842 sec \n",
      "Time for epoch 97 is 28.20752263069153 sec \n",
      "Time for epoch 98 is 28.10234832763672 sec \n",
      "Time for epoch 99 is 28.210973024368286 sec \n",
      "Time for epoch 100 is 5146.0995235443115 sec \n",
      "Time for epoch 101 is 28.360602617263794 sec \n",
      "Time for epoch 102 is 28.699360370635986 sec \n",
      "Time for epoch 103 is 28.052680730819702 sec \n",
      "Time for epoch 104 is 27.47860026359558 sec \n",
      "Time for epoch 105 is 27.620939016342163 sec \n",
      "Time for epoch 106 is 27.590661764144897 sec \n",
      "Time for epoch 107 is 27.463661432266235 sec \n",
      "Time for epoch 108 is 27.627877235412598 sec \n",
      "Time for epoch 109 is 27.661291360855103 sec \n",
      "Time for epoch 110 is 27.589693784713745 sec \n",
      "Time for epoch 111 is 27.794221878051758 sec \n",
      "Time for epoch 112 is 27.756752252578735 sec \n",
      "Time for epoch 113 is 27.82739543914795 sec \n",
      "Time for epoch 114 is 27.786561965942383 sec \n",
      "Time for epoch 115 is 27.906247854232788 sec \n",
      "Time for epoch 116 is 27.98047399520874 sec \n",
      "Time for epoch 117 is 27.939786195755005 sec \n",
      "Time for epoch 118 is 27.750163078308105 sec \n",
      "Time for epoch 119 is 27.97089982032776 sec \n",
      "Time for epoch 120 is 27.96705389022827 sec \n",
      "Time for epoch 121 is 27.929160594940186 sec \n",
      "Time for epoch 122 is 27.909507274627686 sec \n",
      "Time for epoch 123 is 695.3010966777802 sec \n",
      "Time for epoch 124 is 28.402414321899414 sec \n",
      "Time for epoch 125 is 28.22504711151123 sec \n",
      "Time for epoch 126 is 28.346999406814575 sec \n",
      "Time for epoch 127 is 28.523508548736572 sec \n",
      "Time for epoch 128 is 28.396353244781494 sec \n",
      "Time for epoch 129 is 28.07390522956848 sec \n",
      "Time for epoch 130 is 28.11220097541809 sec \n",
      "Time for epoch 131 is 27.982869386672974 sec \n",
      "Time for epoch 132 is 28.121258974075317 sec \n",
      "Time for epoch 133 is 28.262879848480225 sec \n",
      "Time for epoch 134 is 28.345654249191284 sec \n",
      "Time for epoch 135 is 27.9130756855011 sec \n",
      "Time for epoch 136 is 28.165902853012085 sec \n",
      "Time for epoch 137 is 28.17172336578369 sec \n",
      "Time for epoch 138 is 28.269689559936523 sec \n",
      "Time for epoch 139 is 28.075496435165405 sec \n",
      "Time for epoch 140 is 28.143360376358032 sec \n",
      "Time for epoch 141 is 28.29832363128662 sec \n",
      "Time for epoch 142 is 28.493867874145508 sec \n",
      "Time for epoch 143 is 28.270103693008423 sec \n",
      "Time for epoch 144 is 28.33144736289978 sec \n",
      "Time for epoch 145 is 28.476097583770752 sec \n",
      "Time for epoch 146 is 28.615517616271973 sec \n",
      "Time for epoch 147 is 28.772101163864136 sec \n",
      "Time for epoch 148 is 28.340117692947388 sec \n",
      "Time for epoch 149 is 28.33428382873535 sec \n",
      "Time for epoch 150 is 28.379496574401855 sec \n"
     ]
    }
   ],
   "source": [
    "x_train= X\n",
    "train(x_train,EPOCHS) \n"
   ]
  },
  {
   "cell_type": "code",
   "execution_count": null,
   "id": "ac07e83c-0e4e-42a3-9101-2f34b45d0e24",
   "metadata": {},
   "outputs": [],
   "source": []
  },
  {
   "cell_type": "code",
   "execution_count": 32,
   "id": "0531e261-5e0b-451e-94dd-ddd289548a66",
   "metadata": {},
   "outputs": [
    {
     "data": {
      "text/plain": [
       "[<matplotlib.lines.Line2D at 0x1efa9e2c100>]"
      ]
     },
     "execution_count": 32,
     "metadata": {},
     "output_type": "execute_result"
    },
    {
     "data": {
      "image/png": "[encoded data removed]",
      "text/plain": [
       "<Figure size 640x480 with 1 Axes>"
      ]
     },
     "metadata": {},
     "output_type": "display_data"
    }
   ],
   "source": [
    "plt.plot(history['gen'])"
   ]
  },
  {
   "cell_type": "code",
   "execution_count": 33,
   "id": "d9e4bcc4-7c7c-4303-ae37-886fcba4b8ed",
   "metadata": {},
   "outputs": [
    {
     "data": {
      "text/plain": [
       "[<matplotlib.lines.Line2D at 0x1efa9e72fd0>]"
      ]
     },
     "execution_count": 33,
     "metadata": {},
     "output_type": "execute_result"
    },
    {
     "data": {
      "image/png": "[encoded data removed]",
      "text/plain": [
       "<Figure size 640x480 with 1 Axes>"
      ]
     },
     "metadata": {},
     "output_type": "display_data"
    }
   ],
   "source": [
    "plt.plot(history['dis'])"
   ]
  },
  {
   "cell_type": "code",
   "execution_count": 34,
   "id": "5d1d47c1-c6d5-47b3-9799-04230138c7cf",
   "metadata": {},
   "outputs": [
    {
     "name": "stdout",
     "output_type": "stream",
     "text": [
      "Requirement already satisfied: mlxtend in c:\\users\\zakar\\anaconda3\\lib\\site-packages (0.23.1)\n",
      "Requirement already satisfied: scipy>=1.2.1 in c:\\users\\zakar\\anaconda3\\lib\\site-packages (from mlxtend) (1.9.1)\n",
      "Requirement already satisfied: numpy>=1.16.2 in c:\\users\\zakar\\anaconda3\\lib\\site-packages (from mlxtend) (1.21.5)\n",
      "Requirement already satisfied: pandas>=0.24.2 in c:\\users\\zakar\\anaconda3\\lib\\site-packages (from mlxtend) (2.0.3)\n",
      "Requirement already satisfied: scikit-learn>=1.0.2 in c:\\users\\zakar\\anaconda3\\lib\\site-packages (from mlxtend) (1.0.2)\n",
      "Requirement already satisfied: matplotlib>=3.0.0 in c:\\users\\zakar\\anaconda3\\lib\\site-packages (from mlxtend) (3.5.2)\n",
      "Requirement already satisfied: joblib>=0.13.2 in c:\\users\\zakar\\anaconda3\\lib\\site-packages (from mlxtend) (1.1.0)\n",
      "Requirement already satisfied: cycler>=0.10 in c:\\users\\zakar\\anaconda3\\lib\\site-packages (from matplotlib>=3.0.0->mlxtend) (0.11.0)\n",
      "Requirement already satisfied: fonttools>=4.22.0 in c:\\users\\zakar\\anaconda3\\lib\\site-packages (from matplotlib>=3.0.0->mlxtend) (4.25.0)\n",
      "Requirement already satisfied: kiwisolver>=1.0.1 in c:\\users\\zakar\\anaconda3\\lib\\site-packages (from matplotlib>=3.0.0->mlxtend) (1.4.2)\n",
      "Requirement already satisfied: packaging>=20.0 in c:\\users\\zakar\\anaconda3\\lib\\site-packages (from matplotlib>=3.0.0->mlxtend) (21.3)\n",
      "Requirement already satisfied: pillow>=6.2.0 in c:\\users\\zakar\\anaconda3\\lib\\site-packages (from matplotlib>=3.0.0->mlxtend) (9.2.0)\n",
      "Requirement already satisfied: pyparsing>=2.2.1 in c:\\users\\zakar\\anaconda3\\lib\\site-packages (from matplotlib>=3.0.0->mlxtend) (3.0.9)\n",
      "Requirement already satisfied: python-dateutil>=2.7 in c:\\users\\zakar\\anaconda3\\lib\\site-packages (from matplotlib>=3.0.0->mlxtend) (2.8.2)\n",
      "Requirement already satisfied: pytz>=2020.1 in c:\\users\\zakar\\anaconda3\\lib\\site-packages (from pandas>=0.24.2->mlxtend) (2022.1)\n",
      "Requirement already satisfied: tzdata>=2022.1 in c:\\users\\zakar\\anaconda3\\lib\\site-packages (from pandas>=0.24.2->mlxtend) (2024.1)\n",
      "Requirement already satisfied: threadpoolctl>=2.0.0 in c:\\users\\zakar\\anaconda3\\lib\\site-packages (from scikit-learn>=1.0.2->mlxtend) (2.2.0)\n",
      "Requirement already satisfied: six>=1.5 in c:\\users\\zakar\\anaconda3\\lib\\site-packages (from python-dateutil>=2.7->matplotlib>=3.0.0->mlxtend) (1.16.0)\n"
     ]
    },
    {
     "name": "stderr",
     "output_type": "stream",
     "text": [
      "WARNING: Ignoring invalid distribution -rotobuf (c:\\users\\zakar\\anaconda3\\lib\\site-packages)\n",
      "WARNING: Ignoring invalid distribution -rotobuf (c:\\users\\zakar\\anaconda3\\lib\\site-packages)\n"
     ]
    }
   ],
   "source": [
    "!pip install mlxtend\n"
   ]
  },
  {
   "cell_type": "code",
   "execution_count": null,
   "id": "58b3a05a-a74a-44f0-9d4f-ce62954385f7",
   "metadata": {},
   "outputs": [],
   "source": []
  },
  {
   "cell_type": "code",
   "execution_count": 40,
   "id": "4ee8f2d9-cfa6-437e-b82f-b149ebeee5bf",
   "metadata": {},
   "outputs": [],
   "source": [
    "y_test=df.label\n",
    "x_test=df.drop('label',axis=1).values.reshape(-1,1,8)"
   ]
  },
  {
   "cell_type": "code",
   "execution_count": 41,
   "id": "3697cd7f-6c29-483b-b2c4-4f1cb8e00edc",
   "metadata": {},
   "outputs": [],
   "source": [
    "# y_test=df.label\n",
    "# x_test=df.drop('label',axis=1).values.reshape(-1,1,8)\n",
    "\n",
    "x_test_indices = df.drop('label', axis=1).sample(2000).index\n",
    "\n",
    "# Use the indices to retrieve corresponding values from y_test\n",
    "y_test_selected = y_test.loc[x_test_indices]"
   ]
  },
  {
   "cell_type": "code",
   "execution_count": 42,
   "id": "9b3e26b0",
   "metadata": {},
   "outputs": [
    {
     "name": "stdout",
     "output_type": "stream",
     "text": [
      "14501/14501 [==============================] - 7s 478us/step\n"
     ]
    }
   ],
   "source": [
    "y_pred=discriminator.predict(x_test)\n",
    "from sklearn.metrics import average_precision_score, accuracy_score ,recall_score, f1_score\n"
   ]
  },
  {
   "cell_type": "code",
   "execution_count": 43,
   "id": "b0eeb66a",
   "metadata": {},
   "outputs": [
    {
     "name": "stdout",
     "output_type": "stream",
     "text": [
      "prob =-0.2 and f1 score =0.9172062973414526 : accuracy=0.8558384211059413 : precision=0.8980219710314015 : recall=0.933937082695851\n",
      "52804 411217\n",
      "prob =-0.1 and f1 score =0.9171949453568821 : accuracy=0.8558168703571606 : precision=0.8980015069699834 : recall=0.933937082695851\n",
      "52794 411227\n",
      "prob =-0.05 and f1 score =0.917192674993688 : accuracy=0.8558125602074044 : precision=0.8979974142771313 : recall=0.933937082695851\n",
      "52792 411229\n",
      "prob =0 and f1 score =0.9171892694699714 : accuracy=0.8558060949827702 : precision=0.8979912753124955 : recall=0.933937082695851\n",
      "52789 411232\n",
      "prob =0.005 and f1 score =0.9171892694699714 : accuracy=0.8558060949827702 : precision=0.8979912753124955 : recall=0.933937082695851\n",
      "52789 411232\n",
      "prob =0.1 and f1 score =0.9171654315120372 : accuracy=0.8557608384103306 : precision=0.8979483050678579 : recall=0.933937082695851\n",
      "52768 411253\n",
      "prob =0.2 and f1 score =0.9171554206832365 : accuracy=0.8557414427364278 : precision=0.8979281853157123 : recall=0.9339396032192124\n",
      "52757 411264\n",
      "prob =0.4 and f1 score =0.9171363297715667 : accuracy=0.8557048064635006 : precision=0.8978916996485123 : recall=0.9339421237425739\n",
      "52738 411283\n"
     ]
    }
   ],
   "source": [
    "prob=[-0.2,-0.1,-0.05,0,0.005,0.1, 0.2, 0.4]\n",
    "for p in prob:\n",
    "    pred_value =[1 if i<p   else 0 for i in y_pred]\n",
    "    f1=f1_score(y_test,pred_value)\n",
    "    acc=accuracy_score(y_test,pred_value)\n",
    "    precision=average_precision_score(y_test,pred_value)\n",
    "    recall= recall_score(y_test,pred_value)\n",
    "    print(f'prob ={p} and f1 score ={f1} : accuracy={acc} : precision={precision} : recall={recall}')\n",
    "    print(pred_value.count(0),pred_value.count(1))"
   ]
  },
  {
   "cell_type": "code",
   "execution_count": 44,
   "id": "886ab176",
   "metadata": {},
   "outputs": [
    {
     "data": {
      "text/plain": [
       "(<Figure size 640x480 with 1 Axes>,\n",
       " <AxesSubplot:xlabel='predicted label', ylabel='true label'>)"
      ]
     },
     "execution_count": 44,
     "metadata": {},
     "output_type": "execute_result"
    },
    {
     "data": {
      "image/png": "[encoded data removed]",
      "text/plain": [
       "<Figure size 640x480 with 1 Axes>"
      ]
     },
     "metadata": {},
     "output_type": "display_data"
    }
   ],
   "source": [
    "from mlxtend.plotting import plot_confusion_matrix\n",
    "from sklearn.metrics import confusion_matrix\n",
    "mat = confusion_matrix(y_test,pred_value)\n",
    "plot_confusion_matrix(conf_mat=mat)"
   ]
  }
 ],
 "metadata": {
  "kernelspec": {
   "display_name": "Python 3 (ipykernel)",
   "language": "python",
   "name": "python3"
  },
  "language_info": {
   "codemirror_mode": {
    "name": "ipython",
    "version": 3
   },
   "file_extension": ".py",
   "mimetype": "text/x-python",
   "name": "python",
   "nbconvert_exporter": "python",
   "pygments_lexer": "ipython3",
   "version": "3.11.7"
  },
  "widgets": {
   "application/vnd.jupyter.widget-state+json": {
    "state": {},
    "version_major": 2,
    "version_minor": 0
   }
  }
 },
 "nbformat": 4,
 "nbformat_minor": 5
}
